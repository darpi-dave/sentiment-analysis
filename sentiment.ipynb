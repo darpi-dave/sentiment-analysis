{
 "cells": [
  {
   "cell_type": "code",
   "execution_count": null,
   "metadata": {},
   "outputs": [],
   "source": [
    "# Importing libraries\n",
    "import nltk\n",
    "from nltk.corpus import movie_reviews\n",
    "import random\n",
    "\n",
    "# Downloading the dataset \n",
    "nltk.download('movie_reviews')\n",
    "\n",
    "# Loading the data\n",
    "documents = [(list(movie_reviews.words(fileid)), category)\n",
    "             for category in movie_reviews.categories()\n",
    "             for fileid in movie_reviews.fileids(category)]\n",
    "\n",
    "# Shuffling data for randomness\n",
    "random.shuffle(documents)\n",
    "\n",
    "# Display an example\n",
    "print(\"Example review:\", \" \".join(documents[0][0]))\n",
    "print(\"Label:\", documents[0][1])\n"
   ]
  },
  {
   "cell_type": "code",
   "execution_count": null,
   "metadata": {},
   "outputs": [],
   "source": [
    "\n",
    "import nltk\n",
    "nltk.download('punkt_tab')"
   ]
  },
  {
   "cell_type": "code",
   "execution_count": null,
   "metadata": {},
   "outputs": [],
   "source": [
    "from nltk.corpus import stopwords\n",
    "from nltk.tokenize import word_tokenize\n",
    "from nltk.stem import WordNetLemmatizer\n",
    "\n",
    "# Downloading required resources\n",
    "nltk.download('stopwords')\n",
    "nltk.download('punkt')\n",
    "nltk.download('wordnet')\n",
    "\n",
    "# Initializing lemmatizer and stopwords\n",
    "lemmatizer = WordNetLemmatizer()\n",
    "stop_words = set(stopwords.words('english'))\n",
    "\n",
    "# Preprocessing function\n",
    "def preprocess_text(text):\n",
    "    # Tokenize, lower, remove stopwords, and lemmatize\n",
    "    words = word_tokenize(\" \".join(text).lower())\n",
    "    words = [lemmatizer.lemmatize(w) for w in words if w.isalpha() and w not in stop_words]\n",
    "    return words\n",
    "\n",
    "# Applying preprocessing\n",
    "documents = [(preprocess_text(doc), label) for doc, label in documents]\n",
    "\n",
    "# Show example of preprocessed review\n",
    "print(\"Preprocessed Example:\", documents[0][0])\n"
   ]
  },
  {
   "cell_type": "code",
   "execution_count": null,
   "metadata": {},
   "outputs": [],
   "source": [
    "from sklearn.feature_extraction.text import TfidfVectorizer\n",
    "\n",
    "# Converting documents to strings\n",
    "corpus = [\" \".join(doc) for doc, _ in documents]\n",
    "labels = [1 if label == 'pos' else 0 for _, label in documents]  # Convert labels to binary\n",
    "\n",
    "# Initializing TF-IDF Vectorizer\n",
    "vectorizer = TfidfVectorizer(max_features=5000)\n",
    "X = vectorizer.fit_transform(corpus).toarray()\n",
    "y = labels\n"
   ]
  },
  {
   "cell_type": "code",
   "execution_count": null,
   "metadata": {},
   "outputs": [],
   "source": [
    "from sklearn.model_selection import train_test_split\n",
    "from sklearn.linear_model import LogisticRegression\n",
    "from sklearn.svm import SVC\n",
    "from sklearn.metrics import accuracy_score, f1_score\n",
    "\n",
    "# Spliting data\n",
    "X_train, X_test, y_train, y_test = train_test_split(X, y, test_size=0.2, random_state=42)\n",
    "\n",
    "# Training Logistic Regression\n",
    "lr_model = LogisticRegression(max_iter=1000)\n",
    "lr_model.fit(X_train, y_train)\n",
    "lr_pred = lr_model.predict(X_test)\n",
    "\n",
    "# Evaluating Logistic Regression\n",
    "print(\"Logistic Regression Accuracy:\", accuracy_score(y_test, lr_pred))\n",
    "print(\"Logistic Regression F1 Score:\", f1_score(y_test, lr_pred))\n",
    "\n",
    "# Training Support Vector Machine\n",
    "svm_model = SVC()\n",
    "svm_model.fit(X_train, y_train)\n",
    "svm_pred = svm_model.predict(X_test)\n",
    "\n",
    "# Evaluating SVM\n",
    "print(\"SVM Accuracy:\", accuracy_score(y_test, svm_pred))\n",
    "print(\"SVM F1 Score:\", f1_score(y_test, svm_pred))\n"
   ]
  },
  {
   "cell_type": "code",
   "execution_count": null,
   "metadata": {},
   "outputs": [],
   "source": [
    "import joblib\n",
    "\n",
    "# Saving the model\n",
    "best_model = lr_model if f1_score(y_test, lr_pred) > f1_score(y_test, svm_pred) else svm_model\n",
    "joblib.dump(best_model, 'sentiment_model.pkl')\n",
    "joblib.dump(vectorizer, 'tfidf_vectorizer.pkl')\n",
    "print(\"Model and vectorizer saved for deployment.\")\n"
   ]
  },
  {
   "cell_type": "code",
   "execution_count": null,
   "metadata": {},
   "outputs": [],
   "source": [
    "import joblib\n",
    "\n",
    "# Loading the model and vectorizer\n",
    "model = joblib.load('sentiment_model.pkl')\n",
    "vectorizer = joblib.load('tfidf_vectorizer.pkl')\n",
    "\n",
    "# Defining a function for prediction\n",
    "def predict_sentiment(review):\n",
    "    # Preprocessing and vectorizing the input\n",
    "    review_vector = vectorizer.transform([review]).toarray()\n",
    "    prediction = model.predict(review_vector)[0]\n",
    "    return 'positive' if prediction == 1 else 'negative'\n",
    "\n",
    "# Example usage\n",
    "if __name__ == \"__main__\":\n",
    "    review = input(\"Enter a movie review: \")\n",
    "    sentiment = predict_sentiment(review)\n",
    "    print(f\"The sentiment is: {sentiment}\")\n"
   ]
  }
 ],
 "metadata": {
  "kernelspec": {
   "display_name": "Python 3",
   "language": "python",
   "name": "python3"
  },
  "language_info": {
   "codemirror_mode": {
    "name": "ipython",
    "version": 3
   },
   "file_extension": ".py",
   "mimetype": "text/x-python",
   "name": "python",
   "nbconvert_exporter": "python",
   "pygments_lexer": "ipython3",
   "version": "3.10.4"
  }
 },
 "nbformat": 4,
 "nbformat_minor": 2
}
